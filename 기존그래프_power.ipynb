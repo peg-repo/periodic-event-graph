{
 "cells": [
  {
   "cell_type": "markdown",
   "id": "45dc4922-5fcd-4570-855f-5ce057e5708c",
   "metadata": {},
   "source": [
    "## 데이터 로드"
   ]
  },
  {
   "cell_type": "code",
   "execution_count": 3,
   "id": "84b4dfc2-3c16-470a-ac47-fcacff3407b8",
   "metadata": {
    "jupyter": {
     "source_hidden": true
    }
   },
   "outputs": [],
   "source": [
    "# Library\n",
    "import pandas as pd\n",
    "import numpy as np\n",
    "import seaborn as sns\n",
    "import os\n",
    "from tqdm.notebook import tqdm\n",
    "import matplotlib.pyplot as plt\n",
    "import zipfile\n",
    "import pickle\n",
    "from io import TextIOWrapper\n",
    "import matrixprofile as mp\n",
    "from matrixprofile.visualize import plot_motifs_mp, plot_discords_mp\n",
    "from datetime import datetime, timedelta\n",
    "from scipy.spatial.distance import cdist\n",
    "from fastdtw import fastdtw\n",
    "import hdbscan\n",
    "import mass_ts as mts\n",
    "from sklearn.metrics import precision_recall_fscore_support\n",
    "from sklearn.preprocessing import StandardScaler\n",
    "\n",
    "import networkx as nx\n",
    "from networkx.algorithms import bipartite\n",
    "\n",
    "import sys\n",
    "#sys.path.remove('/Users/soyoung/anaconda3/envs/mp/lib/python3.8/site-packages/')\n",
    "sys.path.append('/Users/soyoung/workspace/event_graph/library/peak-over-threshold/src/') # spot.py path\n",
    "sys.path.append('/Users/soyoung/workspace/event_graph/library/mass-ts/mass_ts/')         # _mass_ts_sy.py path\n",
    "sys.path.append('/Users/soyoung/workspace/event_graph/library/twiter_tgn/')\n",
    "sys.path.append('/Users/soyoung/workspace/event_graph/library/DyGLib/')\n",
    "\n",
    "from spot_md import spot\n",
    "from pot import pot\n",
    "from spot_sy import spot_sy\n",
    "from _mass_ts_sy import mass2 as mass2_sy\n",
    "\n",
    "import random\n",
    "random.seed(1127)\n",
    "\n",
    "%matplotlib inline"
   ]
  },
  {
   "cell_type": "code",
   "execution_count": 4,
   "id": "fcfbf9e4",
   "metadata": {},
   "outputs": [],
   "source": [
    "# data load\n",
    "def set_index_df(file_path, sheet_name):\n",
    "    df = pd.read_excel(file_path, sheet_name = sheet_name, engine = 'openpyxl')\n",
    "    df = df.drop(['Unnamed: 0', 'Total Consumption'], axis=1)\n",
    "    df.set_index('Periods', inplace=True)\n",
    "    df.index = pd.date_range(start='2023-01-01', periods=len(df), freq='15T')\n",
    "    \n",
    "    return df\n",
    "\n",
    "new_directory = \"/Users/soyoung/workspace/event_graph/data\"\n",
    "os.chdir(new_directory)\n",
    "\n",
    "# Power consumption dataset\n",
    "file_path = 'Dataset.xlsx'; sheet_name = 'PublicBuilding'\n",
    "power = set_index_df(file_path, sheet_name)\n",
    "\n",
    "power = power.drop(['AC4', 'Refrigerator'], axis=1)"
   ]
  },
  {
   "cell_type": "markdown",
   "id": "ae879d42-ccd8-4a5b-bdad-6e7371150c52",
   "metadata": {},
   "source": [
    "## Event Graph 생성 "
   ]
  },
  {
   "cell_type": "code",
   "execution_count": 5,
   "id": "69217949",
   "metadata": {
    "jupyter": {
     "source_hidden": true
    }
   },
   "outputs": [],
   "source": [
    "# functions\n",
    "def matrix_profile_set(df, window_size, top_k):\n",
    "    profiles_set = {}\n",
    "    \n",
    "    for col_name in df.columns:\n",
    "        key = '{} Profile'.format(col_name)\n",
    "        profiles_set[key] = mp.compute(df[col_name].values, window_size)\n",
    "        profiles_set[key] = mp.discover.motifs(profiles_set[key],\n",
    "                                               exclusion_zone = window_size//2,\n",
    "                                               k = top_k)\n",
    "            \n",
    "    return profiles_set\n",
    "\n",
    "def dtw_distance(x, y):\n",
    "    distance, _ = fastdtw(x, y)\n",
    "    return distance\n",
    "\n",
    "def dtw_distance_matrix(time_series_list):\n",
    "    num_series = len(time_series_list)\n",
    "    distance_matrix = np.zeros((num_series, num_series))\n",
    "\n",
    "    for i in range(num_series):\n",
    "        for j in range(i, num_series):\n",
    "            distance_matrix[i, j] = dtw_distance(time_series_list[i], time_series_list[j])\n",
    "            distance_matrix[j, i] = distance_matrix[i, j]  # 대칭 행렬\n",
    "            \n",
    "    return distance_matrix\n",
    "\n",
    "def event_generation_set(df, mp_set, window_size, cluster_size):\n",
    "    motifs = {}\n",
    "    for col_name in df.columns:\n",
    "        key = '{} Profile'.format(col_name)\n",
    "        index = [item['motifs'] for item in mp_set[key]['motifs']]                \n",
    "        motifs[col_name] = list(set(sum(index, [])))                    # 중복 index 제외\n",
    "\n",
    "    patterns = []\n",
    "    for col_name in df.columns:\n",
    "        patterns.append([df[col_name].values[idx : idx + window_size] for idx in motifs[col_name]])\n",
    "    patterns = list({tuple(array) for array in sum(patterns, [])})      # 중복 제외\n",
    "    patterns = [np.array(array) for array in patterns]\n",
    "\n",
    "\n",
    "    hdb_cluster = hdbscan.HDBSCAN(metric = dtw_distance, min_cluster_size = cluster_size)\n",
    "    hdb_cluster.fit(patterns)\n",
    "    cls_labels = hdb_cluster.labels_\n",
    "    \n",
    "    events_list = []\n",
    "    for i in np.unique(cls_labels)[np.unique(cls_labels) != -1]:\n",
    "        events_list.append(hdb_cluster.weighted_cluster_centroid(cluster_id = i))\n",
    "    #for i in list(np.where(cls_labels == -1)[0]):\n",
    "    #    events_list.append(patterns[i])\n",
    "\n",
    "    events_set = {}\n",
    "    for i, event in enumerate(events_list):\n",
    "        key = 'Event {}'.format(i + 1)\n",
    "        events_set[key] = event \n",
    "\n",
    "    return events_set\n",
    "\n",
    "def extract_windows_df(df, window_size, window_stride):\n",
    "    \n",
    "    num_windows = (len(df) - window_size) // window_stride + 1\n",
    "    range_windows = range(0, num_windows * window_stride, window_stride)\n",
    "    windows_df = pd.DataFrame(index = range_windows, columns =  df.columns)\n",
    "\n",
    "    windows = []\n",
    "    for col_name in df.columns:\n",
    "        windows = []\n",
    "        for i in range_windows:\n",
    "            data = df[col_name][i : i + window_size].values\n",
    "            windows.append(data.tolist())\n",
    "        windows_df[col_name] = windows\n",
    "\n",
    "    return windows_df\n",
    "\n",
    "def pattern_matching_df(window_df, event_set):\n",
    "    similarity_tensor = {}\n",
    "    \n",
    "    for i in window_df.index:\n",
    "        sliding_window = window_df.loc[i]\n",
    "        similarity = {}\n",
    "        \n",
    "        for col_name in window_df.columns:\n",
    "            ts_similarity = []\n",
    "            for event in event_set.values():\n",
    "                ts_similarity.append(mass2_sy(sliding_window[col_name], event))\n",
    "            similarity[col_name] = np.concatenate(ts_similarity)\n",
    "            \n",
    "        similarity_tensor[i] = similarity\n",
    "\n",
    "    \n",
    "    event_matching_df = pd.DataFrame(index = window_df.index, columns =  window_df.columns)\n",
    "    \n",
    "    for i in similarity_tensor.keys():\n",
    "        similarity = similarity_tensor[i]\n",
    "        for col_name in similarity.keys():\n",
    "            event_matching_df[col_name][i] = 'Event {}'.format(np.nanargmin(similarity[col_name]) + 1)\n",
    "\n",
    "    return event_matching_df\n",
    "\n",
    "def extract_residual_windows_df(window_df, event_set, pattern_matching_df):\n",
    "    residual_windows_df = pd.DataFrame(index = window_df.index, columns =  window_df.columns)\n",
    "\n",
    "    for col_name in residual_windows_df.columns:\n",
    "        for i in residual_windows_df.index:\n",
    "            event_key = pattern_matching_df[col_name][i]\n",
    "            residual_windows_df[col_name][i] = window_df[col_name][i] - event_set[event_key]\n",
    "\n",
    "    return residual_windows_df\n",
    "\n",
    "def extract_threshold_windows_df(df, window_df, window_length, window_stride, init_level = 0.8):\n",
    "    threshold_df = pd.DataFrame(index = df.index, columns =  window_df.columns)\n",
    "\n",
    "    for col_name in window_df.columns:\n",
    "        if col_name in ('AC4', 'Refrigerator'):\n",
    "            threshold_df[col_name] = [max(df[col_name])] * len(df[col_name])\n",
    "        else:\n",
    "            init = int(len(df)*0.9)\n",
    "            threshold = spot_sy(df[col_name], num_init = init, init_level = init_level, risk = 1e-4)\n",
    "            threshold_df[col_name] = threshold['t']\n",
    "\n",
    "    threshold_windows_df = extract_windows_df(threshold_df, window_length, window_stride)\n",
    "    \n",
    "    return threshold_windows_df\n",
    "\n",
    "def residual_matching_df(residual_window_df, threshold_window_df):\n",
    "    residual_matching_df = pd.DataFrame(index = residual_window_df.index, columns =  residual_window_df.columns)\n",
    "\n",
    "    for col_name in residual_matching_df.columns:\n",
    "        for i in residual_matching_df.index:\n",
    "            condition = np.any((residual_window_df[col_name][i] - threshold_window_df[col_name][i]) > 0) \n",
    "            if condition == True:\n",
    "                residual_matching_df[col_name][i] = 'Residual +'\n",
    "            else:\n",
    "                residual_matching_df[col_name][i] = 'Residual -'\n",
    "    \n",
    "    return residual_matching_df\n",
    "\n",
    "def event2graph_df(pattern_df, residual_df, evnet_set):\n",
    "    time_series_node = list(pattern_df.columns)\n",
    "    event_node = list(evnet_set.keys()) + ['Residual +', 'Residual -']  # residual error event node\n",
    "    \n",
    "    timeseries_mapping = {time_series: idx for idx, time_series in enumerate(time_series_node)}\n",
    "    event_mapping = {event: idx for idx, event in enumerate(event_node)}\n",
    "    \n",
    "    pattern_matching_mapped = pattern_df.copy() \n",
    "    for column in pattern_df.columns:\n",
    "        pattern_matching_mapped[column] = pattern_df[column].map(event_mapping)\n",
    "    \n",
    "    residual_matching_mapped = residual_df.copy() \n",
    "    for column in residual_df.columns:\n",
    "        residual_matching_mapped[column] = residual_df[column].map(event_mapping)\n",
    "\n",
    "    event_df = pd.melt(pattern_matching_mapped.reset_index(), id_vars = ['index'], var_name = 'u', value_name = 'i').rename(columns={'index': 'ts'})\n",
    "    residual_df = pd.melt(residual_matching_mapped.reset_index(), id_vars = ['index'], var_name = 'u', value_name = 'i').rename(columns={'index': 'ts'})\n",
    "\n",
    "    graph_df = pd.concat([event_df, residual_df], axis=0)\n",
    "    graph_df = graph_df.reset_index()\n",
    "    graph_df['label'] = 0.0  #state level\n",
    "    graph_df = graph_df[['u', 'i', 'ts', 'label']]\n",
    "    graph_df['u'] = graph_df['u'].map(timeseries_mapping)   # appiance mapping\n",
    "\n",
    "    edge_features_df = pd.concat([pd.get_dummies(graph_df['u'], prefix='u', dtype=int),\n",
    "                                  pd.get_dummies(graph_df['i'], prefix='i', dtype=int)], axis=1)\n",
    "    graph_df = pd.concat([graph_df, edge_features_df], axis=1)\n",
    "    graph_df = graph_df.sort_values(by=['ts', 'u'])\n",
    "    graph_df = graph_df.reset_index(drop=True)\n",
    "\n",
    "    return graph_df"
   ]
  },
  {
   "cell_type": "code",
   "execution_count": 6,
   "id": "bcb00b53",
   "metadata": {},
   "outputs": [
    {
     "data": {
      "text/plain": [
       "(35136, 8)"
      ]
     },
     "execution_count": 6,
     "metadata": {},
     "output_type": "execute_result"
    }
   ],
   "source": [
    "# data shape\n",
    "power.shape"
   ]
  },
  {
   "cell_type": "code",
   "execution_count": 7,
   "id": "484f2004",
   "metadata": {},
   "outputs": [
    {
     "name": "stdout",
     "output_type": "stream",
     "text": [
      "(35136, 8)\n"
     ]
    }
   ],
   "source": [
    "# data shape change\n",
    "df = power\n",
    "print(df.shape)"
   ]
  },
  {
   "cell_type": "code",
   "execution_count": 8,
   "id": "a24d041f",
   "metadata": {},
   "outputs": [],
   "source": [
    "# hyper-parameter\n",
    "window_size = 4 * 3; window_stride = 4\n",
    "motifs_k = 5; min_cluster_size = 2"
   ]
  },
  {
   "cell_type": "code",
   "execution_count": 9,
   "id": "1dbf8bf4-c25c-43cb-965e-552a671eff97",
   "metadata": {},
   "outputs": [],
   "source": [
    "# matrix profile\n",
    "mp_set = matrix_profile_set(df, window_size, motifs_k)"
   ]
  },
  {
   "cell_type": "code",
   "execution_count": 10,
   "id": "c63da332-8b04-43d6-b5fb-076eb572c3e6",
   "metadata": {},
   "outputs": [
    {
     "name": "stdout",
     "output_type": "stream",
     "text": [
      "4\n"
     ]
    }
   ],
   "source": [
    "# event generation\n",
    "event_set = event_generation_set(df, mp_set, window_size, min_cluster_size)\n",
    "print(len(event_set))"
   ]
  },
  {
   "cell_type": "code",
   "execution_count": 11,
   "id": "9c4a91b6-eb5a-4aaa-a846-73f0b51521c5",
   "metadata": {},
   "outputs": [
    {
     "name": "stdout",
     "output_type": "stream",
     "text": [
      "8782\n"
     ]
    }
   ],
   "source": [
    "# window\n",
    "window = extract_windows_df(df, window_size, window_stride)\n",
    "print(len(window))"
   ]
  },
  {
   "cell_type": "code",
   "execution_count": 12,
   "id": "c111527e-1867-4766-a724-6d71820ed907",
   "metadata": {},
   "outputs": [],
   "source": [
    "# pattern node\n",
    "pattern_node = pattern_matching_df(window, event_set)"
   ]
  },
  {
   "cell_type": "code",
   "execution_count": 13,
   "id": "402ee8de-31c7-43ff-9619-c79c55c26148",
   "metadata": {},
   "outputs": [],
   "source": [
    "# residual window\n",
    "residual_window = extract_residual_windows_df(window, event_set, pattern_node)"
   ]
  },
  {
   "cell_type": "code",
   "execution_count": 14,
   "id": "daa2d052",
   "metadata": {},
   "outputs": [],
   "source": [
    "# threshold window\n",
    "threshold_window = extract_threshold_windows_df(df, window, window_size, window_stride)"
   ]
  },
  {
   "cell_type": "code",
   "execution_count": 15,
   "id": "586c62da-fc8e-4fed-8832-4c9844fc1013",
   "metadata": {},
   "outputs": [],
   "source": [
    "# residual node\n",
    "residual_node = residual_matching_df(residual_window, threshold_window)"
   ]
  },
  {
   "cell_type": "code",
   "execution_count": 26,
   "id": "5c470d17-feeb-4a17-b62d-1a8fec4c2f73",
   "metadata": {},
   "outputs": [],
   "source": [
    "event_map = list(event_set.keys()) + ['Residual +', 'Residual -']  # residual error event node\n",
    "event_mapping = {event: idx for idx, event in enumerate(event_map)}"
   ]
  },
  {
   "cell_type": "code",
   "execution_count": 27,
   "id": "307df833-0dda-4fca-b887-0f63db7d8b87",
   "metadata": {},
   "outputs": [],
   "source": [
    "pattern_mapped = pattern_node.copy() \n",
    "for column in pattern_node.columns:\n",
    "    pattern_mapped[column] = pattern_node[column].map(event_mapping)\n",
    "\n",
    "residual_mapped = residual_node.copy() \n",
    "for column in residual_node.columns:\n",
    "    residual_mapped[column] = residual_node[column].map(event_mapping)"
   ]
  },
  {
   "cell_type": "code",
   "execution_count": 65,
   "id": "a10bf911-168c-4a8b-b449-437d0f50a582",
   "metadata": {},
   "outputs": [
    {
     "data": {
      "image/png": "[encoded data removed]",
      "text/plain": [
       "<Figure size 2000x1000 with 2 Axes>"
      ]
     },
     "metadata": {},
     "output_type": "display_data"
    },
    {
     "data": {
      "text/plain": [
       "<Figure size 1920x1440 with 0 Axes>"
      ]
     },
     "metadata": {},
     "output_type": "display_data"
    }
   ],
   "source": [
    "plt.rcParams['font.family'] = 'Times New Roman'\n",
    "plt.figure(figsize=(20, 10))\n",
    "\n",
    "plt.subplot(2, 1, 1) \n",
    "sns.heatmap(pattern_mapped.T, cmap='tab20b', cbar=False, xticklabels=False, yticklabels=False)\n",
    "plt.ylabel('Event Node', fontsize=30)\n",
    "\n",
    "plt.subplot(2, 1, 2) \n",
    "sns.heatmap(residual_mapped.T, cmap='tab20b_r', cbar=False, xticklabels=False, yticklabels=False)\n",
    "plt.ylabel('Residual Node', fontsize=30)\n",
    "\n",
    "# plt.text(0.5, 0.03, '(a) Traffic', ha='center', fontsize=40, transform=plt.gcf().transFigure)\n",
    "plt.tight_layout()\n",
    "plt.figure(dpi=300)\n",
    "plt.show()"
   ]
  },
  {
   "cell_type": "code",
   "execution_count": null,
   "id": "f4956d2f-5017-42bf-a4fc-c48013c9531d",
   "metadata": {},
   "outputs": [],
   "source": [
    "# graph generation\n",
    "graph = event2graph_df(pattern_node, residual_node, event_set)"
   ]
  },
  {
   "cell_type": "code",
   "execution_count": null,
   "id": "a1abb0d1-4be6-4f4e-a9ea-4b1f8feb5a15",
   "metadata": {},
   "outputs": [],
   "source": [
    "ls = list(graph['i'].unique()); ls.sort()\n",
    "print(ls); print(len(ls))"
   ]
  },
  {
   "cell_type": "code",
   "execution_count": 16,
   "id": "5f4cf2f5",
   "metadata": {},
   "outputs": [],
   "source": [
    "# pattern graph extraction\n",
    "pattern_graph = graph[::2]"
   ]
  },
  {
   "cell_type": "code",
   "execution_count": 18,
   "id": "9cca2ad8-1e3f-44bb-94a4-9f26f6629fbd",
   "metadata": {},
   "outputs": [
    {
     "name": "stdout",
     "output_type": "stream",
     "text": [
      "[0, 1, 2, 3]\n",
      "4\n"
     ]
    }
   ],
   "source": [
    "ls = list(pattern_graph['i'].unique()); ls.sort()\n",
    "print(ls); print(len(ls))"
   ]
  },
  {
   "cell_type": "markdown",
   "id": "e55fc9ff",
   "metadata": {},
   "source": [
    "## Graph save"
   ]
  },
  {
   "cell_type": "code",
   "execution_count": 19,
   "id": "741bfb0b",
   "metadata": {},
   "outputs": [],
   "source": [
    "# save the graph\n",
    "new_directory = \"/Users/soyoung/workspace/event_graph/library/DyGLib\"; os.chdir(new_directory)\n",
    "\n",
    "graph.to_csv('./DG_data/power_pr/power_pr.csv', sep = ',', index = False)\n",
    "pattern_graph.to_csv('./DG_data/power_p/power_p.csv', sep = ',', index = False)"
   ]
  },
  {
   "cell_type": "markdown",
   "id": "a9e8615a",
   "metadata": {},
   "source": [
    "## Preprocessing"
   ]
  },
  {
   "cell_type": "code",
   "execution_count": 20,
   "id": "c133ea1b-30e6-4fe3-849b-d60e3e54d92b",
   "metadata": {},
   "outputs": [
    {
     "name": "stdout",
     "output_type": "stream",
     "text": [
      "preprocess dataset power_pr...\n",
      "number of nodes  14\n",
      "number of node features  172\n",
      "number of edges  140512\n",
      "number of edge features  14\n",
      "power_pr is processed successfully.\n",
      "preprocess dataset power_p...\n",
      "number of nodes  12\n",
      "number of node features  172\n",
      "number of edges  70256\n",
      "number of edge features  14\n",
      "power_p is processed successfully.\n"
     ]
    }
   ],
   "source": [
    "!python preprocess_data/preprocess_data.py --dataset_name power_pr\n",
    "!python preprocess_data/preprocess_data.py --dataset_name power_p"
   ]
  }
 ],
 "metadata": {
  "kernelspec": {
   "display_name": "Python 3 (ipykernel)",
   "language": "python",
   "name": "python3"
  },
  "language_info": {
   "codemirror_mode": {
    "name": "ipython",
    "version": 3
   },
   "file_extension": ".py",
   "mimetype": "text/x-python",
   "name": "python",
   "nbconvert_exporter": "python",
   "pygments_lexer": "ipython3",
   "version": "3.8.18"
  }
 },
 "nbformat": 4,
 "nbformat_minor": 5
}
