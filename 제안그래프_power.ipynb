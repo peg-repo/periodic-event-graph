{
 "cells": [
  {
   "cell_type": "markdown",
   "id": "ca61ca1f-9876-40df-88b4-159e90943a04",
   "metadata": {},
   "source": [
    "## 데이터 로드"
   ]
  },
  {
   "cell_type": "code",
   "execution_count": 16,
   "id": "b0a181c6-65d9-4fd2-b88d-9506a528a94d",
   "metadata": {
    "jupyter": {
     "source_hidden": true
    }
   },
   "outputs": [],
   "source": [
    "import os\n",
    "import sys\n",
    "import random\n",
    "import warnings\n",
    "\n",
    "import pandas as pd\n",
    "import numpy as np\n",
    "import seaborn as sns\n",
    "import matplotlib.pyplot as plt\n",
    "from utils.periodic_event_graph_utils import *\n",
    "from utils.event_graph_utils import *\n",
    "from utils.simple_periodic_event_graph_utils import *\n",
    "\n",
    "warnings.filterwarnings('ignore')\n",
    "random.seed(1127)\n",
    "\n",
    "%matplotlib inline"
   ]
  },
  {
   "cell_type": "code",
   "execution_count": 2,
   "id": "282dcc9a-616f-4de2-9b39-786f666cbd7a",
   "metadata": {},
   "outputs": [],
   "source": [
    "# data load\n",
    "def set_index_df(file_path, sheet_name):\n",
    "    df = pd.read_excel(file_path, sheet_name = sheet_name, engine = 'openpyxl')\n",
    "    df = df.drop(['Unnamed: 0', 'Total Consumption'], axis=1)\n",
    "    df.set_index('Periods', inplace=True)\n",
    "    df.index = pd.date_range(start='2023-01-01', periods=len(df), freq='15T')\n",
    "    \n",
    "    return df\n",
    "\n",
    "new_directory = \"/Users/soyoung/workspace/event_graph/data\"\n",
    "os.chdir(new_directory)\n",
    "\n",
    "# Power consumption dataset\n",
    "file_path = 'Dataset.xlsx'; sheet_name = 'PublicBuilding'\n",
    "power = set_index_df(file_path, sheet_name)\n",
    "\n",
    "power = power.drop(['AC4', 'Refrigerator'], axis=1)"
   ]
  },
  {
   "cell_type": "code",
   "execution_count": null,
   "id": "7c3c0dfe",
   "metadata": {},
   "outputs": [],
   "source": [
    "# data load\n",
    "traffic = pd.read_csv(\"/Users/soyoung/workspace/event_graph/data/traffic.csv\")\n",
    "traffic.set_index('date', inplace=True)\n",
    "\n",
    "# data shape change\n",
    "df = traffic.iloc[:, 600:620]\n",
    "print(df.shape)"
   ]
  },
  {
   "cell_type": "code",
   "execution_count": null,
   "id": "2a2764ce",
   "metadata": {},
   "outputs": [],
   "source": [
    "# data load\n",
    "new_directory = \"/Users/soyoung/workspace/event_graph/data\"\n",
    "os.chdir(new_directory)\n",
    "exchange = pd.read_csv(\"exchange_rate.csv\")\n",
    "exchange.set_index('date', inplace=True)"
   ]
  },
  {
   "cell_type": "markdown",
   "id": "909a46d8-4a36-4c45-bdcd-95fea21febe7",
   "metadata": {},
   "source": [
    "## 제안 Event Garph 생성"
   ]
  },
  {
   "cell_type": "code",
   "execution_count": 3,
   "id": "447e7705",
   "metadata": {
    "jupyter": {
     "source_hidden": true
    }
   },
   "outputs": [],
   "source": []
  },
  {
   "cell_type": "code",
   "execution_count": 4,
   "id": "f0279a50",
   "metadata": {},
   "outputs": [
    {
     "data": {
      "text/plain": [
       "(35136, 8)"
      ]
     },
     "execution_count": 4,
     "metadata": {},
     "output_type": "execute_result"
    }
   ],
   "source": [
    "# data shape\n",
    "power.shape"
   ]
  },
  {
   "cell_type": "code",
   "execution_count": 5,
   "id": "d0278e04",
   "metadata": {},
   "outputs": [
    {
     "name": "stdout",
     "output_type": "stream",
     "text": [
      "(35136, 8)\n"
     ]
    }
   ],
   "source": [
    "# data shape change\n",
    "df = power\n",
    "print(df.shape)"
   ]
  },
  {
   "cell_type": "code",
   "execution_count": 6,
   "id": "18cf8422-1957-44c0-9e3e-34616aaab956",
   "metadata": {},
   "outputs": [],
   "source": [
    "# hyper-parameter\n",
    "period = 4; window_stride = period\n",
    "motifs_k = 5; min_cluster_size = 2"
   ]
  },
  {
   "cell_type": "code",
   "execution_count": 7,
   "id": "cd2ab1a8-3051-434c-8afb-3f6ec149a93f",
   "metadata": {},
   "outputs": [],
   "source": [
    "# STL\n",
    "seasonal_data = apply_stl_seasonal(df, period)\n",
    "residual_data = apply_stl_residual(df, period)"
   ]
  },
  {
   "cell_type": "code",
   "execution_count": 8,
   "id": "d445ef5a",
   "metadata": {},
   "outputs": [],
   "source": [
    "# period dict\n",
    "seasonal_dict = dominant_periods(seasonal_data)"
   ]
  },
  {
   "cell_type": "code",
   "execution_count": 9,
   "id": "095d734b",
   "metadata": {},
   "outputs": [
    {
     "name": "stdout",
     "output_type": "stream",
     "text": [
      "dict_values([4, 4, 4, 4, 4, 4, 3, 4])\n",
      "평균 3\n",
      "12\n"
     ]
    }
   ],
   "source": [
    "print(seasonal_dict.values())\n",
    "print('평균', int(np.mean(list(seasonal_dict.values()))))\n",
    "size = period * int(np.mean(list(seasonal_dict.values())))\n",
    "print(size)"
   ]
  },
  {
   "cell_type": "code",
   "execution_count": 10,
   "id": "797ac52e-a7fa-49cf-9830-96b3731b52f1",
   "metadata": {},
   "outputs": [],
   "source": [
    "# seasonal matrix profile # matrix_profile_set(data_dict, dict, top_k, periods)\n",
    "seasonal_mp_set = matrix_profile_set(seasonal_data, seasonal_dict, motifs_k, period)"
   ]
  },
  {
   "cell_type": "code",
   "execution_count": 11,
   "id": "e61d0a80",
   "metadata": {},
   "outputs": [
    {
     "name": "stdout",
     "output_type": "stream",
     "text": [
      "6\n"
     ]
    }
   ],
   "source": [
    "# seasonal event generation # event_generation_set(data_dict, mp_set, dict, periods, cluster_size = 2)\n",
    "seasonal_event_set = event_generation_set(seasonal_data, seasonal_mp_set, seasonal_dict, period, min_cluster_size)\n",
    "print(len(seasonal_event_set))"
   ]
  },
  {
   "cell_type": "code",
   "execution_count": 12,
   "id": "3e091d58-6a39-47c7-aa56-d72c9d7d2518",
   "metadata": {},
   "outputs": [],
   "source": [
    "# residual matrix profile\n",
    "residual_mp_set = matrix_profile_set(residual_data, seasonal_dict, motifs_k, period)"
   ]
  },
  {
   "cell_type": "code",
   "execution_count": 13,
   "id": "c5660df9",
   "metadata": {},
   "outputs": [
    {
     "name": "stdout",
     "output_type": "stream",
     "text": [
      "5\n"
     ]
    }
   ],
   "source": [
    "# residual event generation\n",
    "residual_event_set = event_generation_set(residual_data, residual_mp_set, seasonal_dict, period, min_cluster_size)\n",
    "print(len(residual_event_set))"
   ]
  },
  {
   "cell_type": "code",
   "execution_count": 14,
   "id": "da23a039-cf65-4f91-87be-bf5d56eaf3ed",
   "metadata": {},
   "outputs": [
    {
     "name": "stdout",
     "output_type": "stream",
     "text": [
      "8782\n"
     ]
    }
   ],
   "source": [
    "# seasonal window\n",
    "seasonal_window = extract_windows_df(df, seasonal_data, seasonal_dict, period, window_stride, size)\n",
    "print(len(seasonal_window))"
   ]
  },
  {
   "cell_type": "code",
   "execution_count": 15,
   "id": "ee97dced",
   "metadata": {},
   "outputs": [
    {
     "name": "stdout",
     "output_type": "stream",
     "text": [
      "8782\n"
     ]
    }
   ],
   "source": [
    "# residual window\n",
    "residual_window = extract_windows_df(df, residual_data, seasonal_dict, period, window_stride, size)\n",
    "print(len(residual_window))"
   ]
  },
  {
   "cell_type": "code",
   "execution_count": 28,
   "id": "e3ca4694-dab6-4328-a721-20961ae9abe7",
   "metadata": {},
   "outputs": [],
   "source": [
    "# pattern node\n",
    "pattern_node = pattern_matching_df(seasonal_window, seasonal_event_set)"
   ]
  },
  {
   "cell_type": "code",
   "execution_count": 29,
   "id": "95ea8b0a",
   "metadata": {},
   "outputs": [],
   "source": [
    "# residual node\n",
    "residual_node = pattern_matching_df(residual_window, residual_event_set)"
   ]
  },
  {
   "cell_type": "code",
   "execution_count": 30,
   "id": "552158ce-a669-42c5-9654-b6990124fd57",
   "metadata": {},
   "outputs": [],
   "source": [
    "seasonal_map = list(seasonal_event_set.keys())\n",
    "residual_map = list(residual_event_set.keys())\n",
    "seasonal_mapping = {event: idx for idx, event in enumerate(seasonal_map)}\n",
    "residual_mapping = {event: idx for idx, event in enumerate(residual_map)}"
   ]
  },
  {
   "cell_type": "code",
   "execution_count": 31,
   "id": "2aca236d-3e9f-433e-8d99-174cd141de18",
   "metadata": {},
   "outputs": [],
   "source": [
    "pattern_mapped = pattern_node.copy() \n",
    "for column in pattern_node.columns:\n",
    "    pattern_mapped[column] = pattern_node[column].map(seasonal_mapping)\n",
    "\n",
    "residual_mapped = residual_node.copy() \n",
    "for column in residual_node.columns:\n",
    "    residual_mapped[column] = residual_node[column].map(residual_mapping)"
   ]
  },
  {
   "cell_type": "code",
   "execution_count": 33,
   "id": "85afc23b-8dd0-4090-8a4d-20da3c79ba5a",
   "metadata": {},
   "outputs": [
    {
     "data": {
      "image/png": "[encoded data removed]",
      "text/plain": [
       "<Figure size 2000x1000 with 2 Axes>"
      ]
     },
     "metadata": {},
     "output_type": "display_data"
    },
    {
     "data": {
      "text/plain": [
       "<Figure size 1920x1440 with 0 Axes>"
      ]
     },
     "metadata": {},
     "output_type": "display_data"
    }
   ],
   "source": [
    "plt.rcParams['font.family'] = 'Times New Roman'\n",
    "plt.figure(figsize=(20, 10))\n",
    "\n",
    "plt.subplot(2, 1, 1) \n",
    "sns.heatmap(pattern_mapped.T, cmap='tab20b', cbar=False, xticklabels=False, yticklabels=False)\n",
    "plt.ylabel('Period Event Node', fontsize=30)\n",
    "\n",
    "plt.subplot(2, 1, 2) \n",
    "sns.heatmap(residual_mapped.T, cmap='tab20b_r', cbar=False, xticklabels=False, yticklabels=False)\n",
    "plt.ylabel('Period Residual Node', fontsize=30)\n",
    "\n",
    "plt.text(0.5, 0.01, '(b) Power Consumption', ha='center', fontsize=60, transform=plt.gcf().transFigure)\n",
    "plt.tight_layout()\n",
    "plt.figure(dpi=300)\n",
    "plt.show()"
   ]
  },
  {
   "cell_type": "code",
   "execution_count": null,
   "id": "43c6ab02-c173-4f28-9178-5dc268bc76db",
   "metadata": {},
   "outputs": [],
   "source": []
  },
  {
   "cell_type": "code",
   "execution_count": 23,
   "id": "d4ad270e-1624-4517-a9cf-14d9548a1e79",
   "metadata": {},
   "outputs": [],
   "source": [
    "# graph generation\n",
    "graph = event2graph_df(pattern_node, residual_node, seasonal_event_set, residual_event_set)"
   ]
  },
  {
   "cell_type": "code",
   "execution_count": 24,
   "id": "963743a6-eb0c-4f66-8687-6346c4f60c96",
   "metadata": {},
   "outputs": [
    {
     "name": "stdout",
     "output_type": "stream",
     "text": [
      "[0, 1, 2, 3, 4, 5, 6, 7, 8, 9]\n"
     ]
    }
   ],
   "source": [
    "ls = list(graph['i'].unique()); ls.sort(); print(ls)"
   ]
  },
  {
   "cell_type": "code",
   "execution_count": 25,
   "id": "a54893f3",
   "metadata": {},
   "outputs": [],
   "source": [
    "# pattern graph extraction\n",
    "pattern_graph = graph[::2]"
   ]
  },
  {
   "cell_type": "code",
   "execution_count": 26,
   "id": "14fec3b5-41fd-4e6b-97e4-f64b139e739d",
   "metadata": {},
   "outputs": [
    {
     "name": "stdout",
     "output_type": "stream",
     "text": [
      "[0, 1, 2, 3, 4, 5]\n"
     ]
    }
   ],
   "source": [
    "ls = list(pattern_graph['i'].unique()); ls.sort(); print(ls)"
   ]
  },
  {
   "cell_type": "markdown",
   "id": "334d1eec",
   "metadata": {
    "jp-MarkdownHeadingCollapsed": true
   },
   "source": [
    "## 하이브리드 Event Graph 생성"
   ]
  },
  {
   "cell_type": "code",
   "execution_count": 28,
   "id": "8fcf353f",
   "metadata": {},
   "outputs": [],
   "source": [
    "# residual window v2\n",
    "residual_window_v2 = extract_residual_windows_df(seasonal_window, seasonal_event_set, pattern_node)"
   ]
  },
  {
   "cell_type": "code",
   "execution_count": 29,
   "id": "a41fb96b",
   "metadata": {},
   "outputs": [],
   "source": [
    "# threshold window #extract_threshold_windows_df(df, size, stride, init_level = 0.8):\n",
    "threshold_window = extract_threshold_windows_df(df, seasonal_data, size, window_stride)"
   ]
  },
  {
   "cell_type": "code",
   "execution_count": 30,
   "id": "584b1ef2",
   "metadata": {},
   "outputs": [],
   "source": [
    "# residual node v2\n",
    "residual_node_v2 = residual_matching_df(residual_window_v2, threshold_window)"
   ]
  },
  {
   "cell_type": "code",
   "execution_count": 31,
   "id": "c4d4c348",
   "metadata": {},
   "outputs": [],
   "source": [
    "# graph generation\n",
    "hb_graph = event2graph_df(pattern_node, residual_node_v2, seasonal_event_set)"
   ]
  },
  {
   "cell_type": "code",
   "execution_count": 33,
   "id": "17b8cd77",
   "metadata": {},
   "outputs": [
    {
     "name": "stdout",
     "output_type": "stream",
     "text": [
      "[0, 1, 2, 3, 4, 5, 6]\n"
     ]
    }
   ],
   "source": [
    "l1 = list(hb_graph['i'].unique()); l1.sort(); print(l1)"
   ]
  },
  {
   "cell_type": "markdown",
   "id": "b179bc3e",
   "metadata": {},
   "source": [
    "## Graph save"
   ]
  },
  {
   "cell_type": "code",
   "execution_count": 35,
   "id": "ba92ed49-d1c6-44bb-98f0-7da018255c95",
   "metadata": {},
   "outputs": [],
   "source": [
    "# save the graph\n",
    "new_directory = \"/Users/soyoung/workspace/event_graph/library/DyGLib\"; os.chdir(new_directory)\n",
    "\n",
    "graph.to_csv('./DG_data/power_new_pr/power_new_pr.csv', sep = ',', index = False)\n",
    "pattern_graph.to_csv('./DG_data/power_new_p/power_new_p.csv', sep = ',', index = False)\n",
    "hb_graph.to_csv('./DG_data/power_new_hb/power_new_hb.csv', sep = ',', index = False)"
   ]
  },
  {
   "cell_type": "markdown",
   "id": "1d2d2fc9",
   "metadata": {},
   "source": [
    "## Preprocessing"
   ]
  },
  {
   "cell_type": "code",
   "execution_count": 36,
   "id": "a333be89-c03d-4e3b-aaef-f4b525b8d39f",
   "metadata": {},
   "outputs": [
    {
     "name": "stdout",
     "output_type": "stream",
     "text": [
      "preprocess dataset power_new_pr...\n",
      "number of nodes  18\n",
      "number of node features  172\n",
      "number of edges  140512\n",
      "number of edge features  18\n",
      "power_new_pr is processed successfully.\n",
      "preprocess dataset power_new_p...\n",
      "number of nodes  14\n",
      "number of node features  172\n",
      "number of edges  70256\n",
      "number of edge features  18\n",
      "power_new_p is processed successfully.\n",
      "preprocess dataset power_new_hb...\n",
      "number of nodes  15\n",
      "number of node features  172\n",
      "number of edges  140512\n",
      "number of edge features  15\n",
      "power_new_hb is processed successfully.\n"
     ]
    }
   ],
   "source": [
    "!python preprocess_data/preprocess_data.py --dataset_name power_new_pr\n",
    "!python preprocess_data/preprocess_data.py --dataset_name power_new_p\n",
    "!python preprocess_data/preprocess_data.py --dataset_name power_new_hb"
   ]
  }
 ],
 "metadata": {
  "kernelspec": {
   "display_name": "Python 3 (ipykernel)",
   "language": "python",
   "name": "python3"
  },
  "language_info": {
   "codemirror_mode": {
    "name": "ipython",
    "version": 3
   },
   "file_extension": ".py",
   "mimetype": "text/x-python",
   "name": "python",
   "nbconvert_exporter": "python",
   "pygments_lexer": "ipython3",
   "version": "3.9.19"
  }
 },
 "nbformat": 4,
 "nbformat_minor": 5
}
