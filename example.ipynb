{
 "cells": [
  {
   "cell_type": "markdown",
   "metadata": {},
   "source": [
    "### graph generation"
   ]
  },
  {
   "cell_type": "code",
   "execution_count": 12,
   "metadata": {},
   "outputs": [
    {
     "name": "stdout",
     "output_type": "stream",
     "text": [
      "/Users/soyoung/workspace/periodic-event-graph/./lib/mass-ts/mass_ts/_mass_ts.py:17: UserWarning: GPU support will not work. You must pip install mass-ts[gpu].\n",
      "  warnings.warn(\n",
      "/Users/soyoung/workspace/periodic-event-graph/./lib/mass-ts/mass_ts/_mass_ts_sy.py:17: UserWarning: GPU support will not work. You must pip install mass-ts[gpu].\n",
      "  warnings.warn(\n",
      "Periodic Evnet Graph with residual node generating..\n",
      "number of periodic event graph with residual node is 11\n",
      "Periodic Evnet Graph without residual node generating..\n",
      "number of periodic event graph without residual node is 6\n",
      "Periodic Evnet Graph with simple residual node generating..\n",
      "number of periodic event graph with simple residual node is 7\n"
     ]
    }
   ],
   "source": [
    "# power consumption\n",
    "!python graph_generation.py --dataset_name 'power' --period 4 --stride 4 --motif 5 --cluster 2"
   ]
  },
  {
   "cell_type": "code",
   "execution_count": 15,
   "metadata": {},
   "outputs": [
    {
     "name": "stdout",
     "output_type": "stream",
     "text": [
      "/Users/soyoung/workspace/periodic-event-graph/./lib/mass-ts/mass_ts/_mass_ts.py:17: UserWarning: GPU support will not work. You must pip install mass-ts[gpu].\n",
      "  warnings.warn(\n",
      "/Users/soyoung/workspace/periodic-event-graph/./lib/mass-ts/mass_ts/_mass_ts_sy.py:17: UserWarning: GPU support will not work. You must pip install mass-ts[gpu].\n",
      "  warnings.warn(\n",
      "Periodic Evnet Graph with residual node generating..\n",
      "number of periodic event graph with residual node is 8\n",
      "Periodic Evnet Graph without residual node generating..\n",
      "number of periodic event graph without residual node is 5\n",
      "Periodic Evnet Graph with simple residual node generating..\n",
      "number of periodic event graph with simple residual node is 6\n"
     ]
    }
   ],
   "source": [
    "# exchange rate\n",
    "!python graph_generation.py --dataset_name 'exchange' --period 4 --stride 4 --motif 3 --cluster 2"
   ]
  },
  {
   "cell_type": "markdown",
   "metadata": {},
   "source": []
  },
  {
   "cell_type": "code",
   "execution_count": 22,
   "metadata": {},
   "outputs": [
    {
     "name": "stdout",
     "output_type": "stream",
     "text": [
      "/Users/soyoung/workspace/periodic-event-graph/./lib/mass-ts/mass_ts/_mass_ts.py:17: UserWarning: GPU support will not work. You must pip install mass-ts[gpu].\n",
      "  warnings.warn(\n",
      "/Users/soyoung/workspace/periodic-event-graph/./lib/mass-ts/mass_ts/_mass_ts_sy.py:17: UserWarning: GPU support will not work. You must pip install mass-ts[gpu].\n",
      "  warnings.warn(\n",
      "Periodic Evnet Graph with residual node generating..\n",
      "^C\n",
      "Traceback (most recent call last):\n",
      "  File \"/Users/soyoung/workspace/periodic-event-graph/graph_generation.py\", line 72, in <module>\n",
      "    pattern_node = peg.pattern_matching_df(seasonal_window, seasonal_event_set)\n",
      "  File \"/Users/soyoung/workspace/periodic-event-graph/utils/periodic_event_graph_utils.py\", line 118, in pattern_matching_df\n",
      "    ts_similarity.append(mass2_sy(sliding_window[col_name], event))\n",
      "  File \"/Users/soyoung/workspace/periodic-event-graph/./lib/mass-ts/mass_ts/_mass_ts_sy.py\", line 191, in mass2\n",
      "    Y = np.fft.fft(y)\n",
      "  File \"/Users/soyoung/anaconda3/envs/periodic-graph/lib/python3.9/site-packages/numpy/fft/_pocketfft.py\", line 215, in fft\n",
      "    output = _raw_fft(a, n, axis, False, True, inv_norm)\n",
      "  File \"/Users/soyoung/anaconda3/envs/periodic-graph/lib/python3.9/site-packages/numpy/fft/_pocketfft.py\", line 70, in _raw_fft\n",
      "    r = pfi.execute(a, is_real, is_forward, fct)\n",
      "KeyboardInterrupt\n"
     ]
    }
   ],
   "source": [
    "# traffic\n",
    "!python graph_generation.py --dataset_name 'traffic' --period 4 --stride 4 --motif 3 --cluster 3"
   ]
  },
  {
   "cell_type": "markdown",
   "metadata": {},
   "source": [
    "### preprocessing"
   ]
  },
  {
   "cell_type": "code",
   "execution_count": 23,
   "metadata": {},
   "outputs": [
    {
     "name": "stdout",
     "output_type": "stream",
     "text": [
      "preprocess dataset power_peg_w_residual...\n",
      "number of nodes  11\n",
      "number of node features  172\n",
      "number of edges  140512\n",
      "number of edge features  19\n",
      "power_peg_w_residual is processed successfully.\n",
      "preprocess dataset power_peg_wo_residual...\n",
      "number of nodes  8\n",
      "number of node features  172\n",
      "number of edges  70256\n",
      "number of edge features  19\n",
      "power_peg_wo_residual is processed successfully.\n",
      "preprocess dataset power_peg_w_simple_residual...\n",
      "number of nodes  8\n",
      "number of node features  172\n",
      "number of edges  140512\n",
      "number of edge features  15\n",
      "power_peg_w_simple_residual is processed successfully.\n"
     ]
    }
   ],
   "source": [
    "!python preprocess_data.py --dataset_name power_peg_w_residual\n",
    "!python preprocess_data.py --dataset_name power_peg_wo_residual\n",
    "!python preprocess_data.py --dataset_name power_peg_w_simple_residual"
   ]
  },
  {
   "cell_type": "code",
   "execution_count": 24,
   "metadata": {},
   "outputs": [
    {
     "name": "stdout",
     "output_type": "stream",
     "text": [
      "preprocess dataset exchange_peg_w_residual...\n",
      "number of nodes  8\n",
      "number of node features  172\n",
      "number of edges  30320\n",
      "number of edge features  16\n",
      "exchange_peg_w_residual is processed successfully.\n",
      "preprocess dataset exchange_peg_wo_residual...\n",
      "number of nodes  8\n",
      "number of node features  172\n",
      "number of edges  15160\n",
      "number of edge features  16\n",
      "exchange_peg_wo_residual is processed successfully.\n",
      "preprocess dataset exchange_peg_w_simple_residual...\n",
      "number of nodes  8\n",
      "number of node features  172\n",
      "number of edges  30320\n",
      "number of edge features  14\n",
      "exchange_peg_w_simple_residual is processed successfully.\n"
     ]
    }
   ],
   "source": [
    "!python preprocess_data.py --dataset_name exchange_peg_w_residual\n",
    "!python preprocess_data.py --dataset_name exchange_peg_wo_residual\n",
    "!python preprocess_data.py --dataset_name exchange_peg_w_simple_residual"
   ]
  },
  {
   "cell_type": "code",
   "execution_count": null,
   "metadata": {},
   "outputs": [],
   "source": [
    "!python preprocess_data.py --dataset_name traffic_peg_w_residual\n",
    "!python preprocess_data.py --dataset_name traffic_peg_wo_residual\n",
    "!python preprocess_data.py --dataset_name traffic_peg_w_simple_residual"
   ]
  },
  {
   "cell_type": "markdown",
   "metadata": {},
   "source": [
    "### Dynamic GNN"
   ]
  },
  {
   "cell_type": "code",
   "execution_count": 36,
   "metadata": {},
   "outputs": [
    {
     "name": "stdout",
     "output_type": "stream",
     "text": [
      "The dataset has 15160 interactions, involving 8 different nodes\n",
      "The training dataset has 7802 interactions, involving 7 different nodes\n",
      "The validation dataset has 2272 interactions, involving 8 different nodes\n",
      "The test dataset has 2272 interactions, involving 8 different nodes\n",
      "The new node validation dataset has 527 interactions, involving 8 different nodes\n",
      "The new node test dataset has 491 interactions, involving 8 different nodes\n",
      "1 nodes were used for the inductive testing, i.e. are never seen during training\n",
      "INFO:root:********** Run 1 starts. **********\n",
      "INFO:root:configuration is Namespace(dataset_name='exchange_peg_wo_residual', batch_size=200, model_name='DyRep', gpu=0, num_neighbors=10, sample_neighbor_strategy='recent', time_scaling_factor=1e-06, num_walk_heads=8, num_heads=2, num_layers=1, walk_length=1, time_gap=2000, time_feat_dim=100, position_feat_dim=172, edge_bank_memory_mode='unlimited_memory', time_window_mode='fixed_proportion', patch_size=1, channel_embedding_dim=50, max_input_sequence_length=32, learning_rate=0.0001, dropout=0.1, num_epochs=10, optimizer='Adam', weight_decay=0.0, patience=20, val_ratio=0.15, test_ratio=0.15, num_runs=3, test_interval_epochs=10, negative_sample_strategy='random', load_best_configs=True, device='cpu', seed=0, save_model_name='DyRep_seed0')\n",
      "INFO:root:model -> Sequential(\n",
      "  (0): MemoryModel(\n",
      "    (time_encoder): TimeEncoder(\n",
      "      (w): Linear(in_features=1, out_features=100, bias=True)\n",
      "    )\n",
      "    (message_aggregator): MessageAggregator()\n",
      "    (memory_bank): MemoryBank(num_nodes=9, memory_dim=172)\n",
      "    (memory_updater): RNNMemoryUpdater(\n",
      "      (memory_bank): MemoryBank(num_nodes=9, memory_dim=172)\n",
      "      (memory_updater): RNNCell(616, 172)\n",
      "    )\n",
      "    (embedding_module): GraphAttentionEmbedding(\n",
      "      (time_encoder): TimeEncoder(\n",
      "        (w): Linear(in_features=1, out_features=100, bias=True)\n",
      "      )\n",
      "      (temporal_conv_layers): ModuleList(\n",
      "        (0): MultiHeadAttention(\n",
      "          (query_projection): Linear(in_features=272, out_features=272, bias=False)\n",
      "          (key_projection): Linear(in_features=444, out_features=272, bias=False)\n",
      "          (value_projection): Linear(in_features=444, out_features=272, bias=False)\n",
      "          (layer_norm): LayerNorm((272,), eps=1e-05, elementwise_affine=True)\n",
      "          (residual_fc): Linear(in_features=272, out_features=272, bias=True)\n",
      "          (dropout): Dropout(p=0.1, inplace=False)\n",
      "        )\n",
      "      )\n",
      "      (merge_layers): ModuleList(\n",
      "        (0): MergeLayer(\n",
      "          (fc1): Linear(in_features=444, out_features=172, bias=True)\n",
      "          (fc2): Linear(in_features=172, out_features=172, bias=True)\n",
      "          (act): ReLU()\n",
      "        )\n",
      "      )\n",
      "    )\n",
      "  )\n",
      "  (1): MergeLayer(\n",
      "    (fc1): Linear(in_features=344, out_features=172, bias=True)\n",
      "    (fc2): Linear(in_features=172, out_features=1, bias=True)\n",
      "    (act): ReLU()\n",
      "  )\n",
      ")\n",
      "INFO:root:model name: DyRep, #parameters: 2768836 B, 2703.94140625 KB, 2.6405677795410156 MB.\n",
      "  0%|                                                                                            | 0/40 [00:00<?, ?it/s]"
     ]
    }
   ],
   "source": [
    "!python train_link_prediction.py --dataset_name exchange_peg_wo_residual --model_name DyRep --load_best_configs --num_runs 5 --num_epochs 10"
   ]
  },
  {
   "cell_type": "code",
   "execution_count": null,
   "metadata": {},
   "outputs": [],
   "source": []
  }
 ],
 "metadata": {
  "kernelspec": {
   "display_name": "periodic-graph",
   "language": "python",
   "name": "python3"
  },
  "language_info": {
   "codemirror_mode": {
    "name": "ipython",
    "version": 3
   },
   "file_extension": ".py",
   "mimetype": "text/x-python",
   "name": "python",
   "nbconvert_exporter": "python",
   "pygments_lexer": "ipython3",
   "version": "3.9.19"
  }
 },
 "nbformat": 4,
 "nbformat_minor": 2
}
