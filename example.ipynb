{
 "cells": [
  {
   "cell_type": "markdown",
   "metadata": {},
   "source": [
    "### graph generation"
   ]
  },
  {
   "cell_type": "code",
   "execution_count": 9,
   "metadata": {},
   "outputs": [
    {
     "name": "stdout",
     "output_type": "stream",
     "text": [
      "/Users/soyoung/workspace/periodic-event-graph/./lib/mass-ts/mass_ts/_mass_ts.py:17: UserWarning: GPU support will not work. You must pip install mass-ts[gpu].\n",
      "  warnings.warn(\n",
      "/Users/soyoung/workspace/periodic-event-graph/./lib/mass-ts/mass_ts/_mass_ts_sy.py:17: UserWarning: GPU support will not work. You must pip install mass-ts[gpu].\n",
      "  warnings.warn(\n",
      "Periodic Evnet Graph with residual node generating..\n"
     ]
    }
   ],
   "source": [
    "# power consumption\n",
    "!python graph_generation.py --dataset_name 'power consumption' --period 4 --stride 4 --motif 5 --cluster 2"
   ]
  },
  {
   "cell_type": "code",
   "execution_count": null,
   "metadata": {},
   "outputs": [],
   "source": [
    "# exchange rate\n",
    "!python graph_generation.py --dataset_name 'exchange rate' --period 4 --stride 4 --motif 3 --cluster 2"
   ]
  },
  {
   "cell_type": "code",
   "execution_count": null,
   "metadata": {},
   "outputs": [],
   "source": [
    "# traffic\n",
    "!python graph_generation.py --dataset_name 'traffic' --period 4 --stride 4 --motif 3 --cluster 3"
   ]
  },
  {
   "cell_type": "markdown",
   "metadata": {},
   "source": [
    "### preprocessing"
   ]
  },
  {
   "cell_type": "code",
   "execution_count": null,
   "metadata": {},
   "outputs": [],
   "source": [
    "!python preprocess_data/preprocess_data.py --dataset_name power_new_pr\n",
    "!python preprocess_data/preprocess_data.py --dataset_name power_new_p\n",
    "!python preprocess_data/preprocess_data.py --dataset_name power_new_hb"
   ]
  },
  {
   "cell_type": "code",
   "execution_count": null,
   "metadata": {},
   "outputs": [],
   "source": []
  }
 ],
 "metadata": {
  "kernelspec": {
   "display_name": "periodic-graph",
   "language": "python",
   "name": "python3"
  },
  "language_info": {
   "codemirror_mode": {
    "name": "ipython",
    "version": 3
   },
   "file_extension": ".py",
   "mimetype": "text/x-python",
   "name": "python",
   "nbconvert_exporter": "python",
   "pygments_lexer": "ipython3",
   "version": "3.9.19"
  }
 },
 "nbformat": 4,
 "nbformat_minor": 2
}
