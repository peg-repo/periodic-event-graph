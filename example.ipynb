{
 "cells": [
  {
   "cell_type": "markdown",
   "metadata": {},
   "source": [
    "### graph generation"
   ]
  },
  {
   "cell_type": "code",
   "execution_count": 12,
   "metadata": {},
   "outputs": [
    {
     "name": "stdout",
     "output_type": "stream",
     "text": [
      "/Users/soyoung/workspace/periodic-event-graph/./lib/mass-ts/mass_ts/_mass_ts.py:17: UserWarning: GPU support will not work. You must pip install mass-ts[gpu].\n",
      "  warnings.warn(\n",
      "/Users/soyoung/workspace/periodic-event-graph/./lib/mass-ts/mass_ts/_mass_ts_sy.py:17: UserWarning: GPU support will not work. You must pip install mass-ts[gpu].\n",
      "  warnings.warn(\n",
      "Periodic Evnet Graph with residual node generating..\n",
      "number of periodic event graph with residual node is 11\n",
      "Periodic Evnet Graph without residual node generating..\n",
      "number of periodic event graph without residual node is 6\n",
      "Periodic Evnet Graph with simple residual node generating..\n",
      "number of periodic event graph with simple residual node is 7\n"
     ]
    }
   ],
   "source": [
    "# power consumption\n",
    "!python graph_generation.py --dataset_name 'power' --period 4 --stride 4 --motif 5 --cluster 2"
   ]
  },
  {
   "cell_type": "code",
   "execution_count": 15,
   "metadata": {},
   "outputs": [
    {
     "name": "stdout",
     "output_type": "stream",
     "text": [
      "/Users/soyoung/workspace/periodic-event-graph/./lib/mass-ts/mass_ts/_mass_ts.py:17: UserWarning: GPU support will not work. You must pip install mass-ts[gpu].\n",
      "  warnings.warn(\n",
      "/Users/soyoung/workspace/periodic-event-graph/./lib/mass-ts/mass_ts/_mass_ts_sy.py:17: UserWarning: GPU support will not work. You must pip install mass-ts[gpu].\n",
      "  warnings.warn(\n",
      "Periodic Evnet Graph with residual node generating..\n",
      "number of periodic event graph with residual node is 8\n",
      "Periodic Evnet Graph without residual node generating..\n",
      "number of periodic event graph without residual node is 5\n",
      "Periodic Evnet Graph with simple residual node generating..\n",
      "number of periodic event graph with simple residual node is 6\n"
     ]
    }
   ],
   "source": [
    "# exchange rate\n",
    "!python graph_generation.py --dataset_name 'exchange' --period 4 --stride 4 --motif 3 --cluster 2"
   ]
  },
  {
   "cell_type": "code",
   "execution_count": 22,
   "metadata": {},
   "outputs": [
    {
     "name": "stdout",
     "output_type": "stream",
     "text": [
      "/Users/soyoung/workspace/periodic-event-graph/./lib/mass-ts/mass_ts/_mass_ts.py:17: UserWarning: GPU support will not work. You must pip install mass-ts[gpu].\n",
      "  warnings.warn(\n",
      "/Users/soyoung/workspace/periodic-event-graph/./lib/mass-ts/mass_ts/_mass_ts_sy.py:17: UserWarning: GPU support will not work. You must pip install mass-ts[gpu].\n",
      "  warnings.warn(\n",
      "Periodic Evnet Graph with residual node generating..\n",
      "^C\n",
      "Traceback (most recent call last):\n",
      "  File \"/Users/soyoung/workspace/periodic-event-graph/graph_generation.py\", line 72, in <module>\n",
      "    pattern_node = peg.pattern_matching_df(seasonal_window, seasonal_event_set)\n",
      "  File \"/Users/soyoung/workspace/periodic-event-graph/utils/periodic_event_graph_utils.py\", line 118, in pattern_matching_df\n",
      "    ts_similarity.append(mass2_sy(sliding_window[col_name], event))\n",
      "  File \"/Users/soyoung/workspace/periodic-event-graph/./lib/mass-ts/mass_ts/_mass_ts_sy.py\", line 191, in mass2\n",
      "    Y = np.fft.fft(y)\n",
      "  File \"/Users/soyoung/anaconda3/envs/periodic-graph/lib/python3.9/site-packages/numpy/fft/_pocketfft.py\", line 215, in fft\n",
      "    output = _raw_fft(a, n, axis, False, True, inv_norm)\n",
      "  File \"/Users/soyoung/anaconda3/envs/periodic-graph/lib/python3.9/site-packages/numpy/fft/_pocketfft.py\", line 70, in _raw_fft\n",
      "    r = pfi.execute(a, is_real, is_forward, fct)\n",
      "KeyboardInterrupt\n"
     ]
    }
   ],
   "source": [
    "# traffic\n",
    "!python graph_generation.py --dataset_name 'traffic' --period 4 --stride 4 --motif 3 --cluster 3"
   ]
  },
  {
   "cell_type": "markdown",
   "metadata": {},
   "source": [
    "### preprocessing"
   ]
  },
  {
   "cell_type": "code",
   "execution_count": 23,
   "metadata": {},
   "outputs": [
    {
     "name": "stdout",
     "output_type": "stream",
     "text": [
      "preprocess dataset power_peg_w_residual...\n"
     ]
    }
   ],
   "source": [
    "!python preprocess_data.py --dataset_name power_peg_w_residual\n",
    "!python preprocess_data.py --dataset_name power_peg_wo_residual\n",
    "!python preprocess_data.py --dataset_name power_peg_w_simple_residual"
   ]
  },
  {
   "cell_type": "code",
   "execution_count": 21,
   "metadata": {},
   "outputs": [
    {
     "name": "stdout",
     "output_type": "stream",
     "text": [
      "preprocess dataset exchange_peg_w_residual...\n",
      "number of nodes  8\n",
      "number of node features  172\n",
      "number of edges  30320\n",
      "number of edge features  16\n",
      "exchange_peg_w_residual is processed successfully.\n",
      "preprocess dataset exchange_peg_wo_residual...\n",
      "number of nodes  8\n",
      "number of node features  172\n",
      "number of edges  15160\n",
      "number of edge features  16\n",
      "exchange_peg_wo_residual is processed successfully.\n",
      "preprocess dataset exchange_peg_w_simple_residual...\n",
      "number of nodes  8\n",
      "number of node features  172\n",
      "number of edges  30320\n",
      "number of edge features  14\n",
      "exchange_peg_w_simple_residual is processed successfully.\n"
     ]
    }
   ],
   "source": [
    "!python preprocess_data.py --dataset_name exchange_peg_w_residual\n",
    "!python preprocess_data.py --dataset_name exchange_peg_wo_residual\n",
    "!python preprocess_data.py --dataset_name exchange_peg_w_simple_residual"
   ]
  },
  {
   "cell_type": "code",
   "execution_count": null,
   "metadata": {},
   "outputs": [],
   "source": [
    "!python preprocess_data.py --dataset_name traffic_peg_w_residual\n",
    "!python preprocess_data.py --dataset_name traffic_peg_wo_residual\n",
    "!python preprocess_data.py --dataset_name traffic_peg_w_simple_residual"
   ]
  },
  {
   "cell_type": "markdown",
   "metadata": {},
   "source": [
    "### Dynamic GNN"
   ]
  },
  {
   "cell_type": "code",
   "execution_count": null,
   "metadata": {},
   "outputs": [],
   "source": [
    "!python train_link_prediction.py --dataset_name traffic_p --model_name TGN --load_best_configs --num_runs 3 --num_epochs 10"
   ]
  }
 ],
 "metadata": {
  "kernelspec": {
   "display_name": "periodic-graph",
   "language": "python",
   "name": "python3"
  },
  "language_info": {
   "codemirror_mode": {
    "name": "ipython",
    "version": 3
   },
   "file_extension": ".py",
   "mimetype": "text/x-python",
   "name": "python",
   "nbconvert_exporter": "python",
   "pygments_lexer": "ipython3",
   "version": "3.9.19"
  }
 },
 "nbformat": 4,
 "nbformat_minor": 2
}
